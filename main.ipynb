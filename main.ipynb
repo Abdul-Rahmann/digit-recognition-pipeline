{
 "cells": [
  {
   "cell_type": "code",
   "execution_count": 11,
   "metadata": {},
   "outputs": [],
   "source": [
    "from utils import show_digit, read_data, validate_data\n",
    "import numpy as np\n",
    "import pandas as pd\n",
    "import matplotlib.pyplot as plt\n",
    "import pandera as pa\n",
    "import janitor"
   ]
  },
  {
   "cell_type": "code",
   "execution_count": 12,
   "metadata": {},
   "outputs": [],
   "source": [
    "train_df = read_data('data/train.csv')\n",
    "test_df = read_data('data/test.csv')"
   ]
  },
  {
   "cell_type": "code",
   "execution_count": 14,
   "metadata": {},
   "outputs": [
    {
     "data": {
      "text/plain": [
       "<function utils.validate_data(df)>"
      ]
     },
     "execution_count": 14,
     "metadata": {},
     "output_type": "execute_result"
    }
   ],
   "source": [
    "train_df"
   ]
  },
  {
   "cell_type": "code",
   "execution_count": 16,
   "metadata": {},
   "outputs": [
    {
     "name": "stdout",
     "output_type": "stream",
     "text": [
      "<Schema Column(name=pixel0, type=DataType(int64))>\n"
     ]
    }
   ],
   "source": [
    "schema_columns = {\n",
    "    'label': pa.Column(int, checks=pa.Check.in_range(0,9))\n",
    "}\n",
    "\n",
    "for i in range(784):\n",
    "    schema_columns[f\"pixel{i}\"] = pa.Column(int, checks=pa.Check.in_range(0, 255))\n",
    "\n",
    "schema = pa.DataFrameSchema(schema_columns)\n",
    "print(schema.columns['pixel0'])\n"
   ]
  },
  {
   "cell_type": "code",
   "execution_count": 17,
   "metadata": {},
   "outputs": [
    {
     "name": "stdout",
     "output_type": "stream",
     "text": [
      "Data validation passed\n"
     ]
    }
   ],
   "source": [
    "try:\n",
    "    validated_data = schema.validate(train_df)\n",
    "    print(\"Data validation passed\")\n",
    "except pa.errors.SchemaError as e:\n",
    "    print(f\"Data Validation failed: \\n{e}\")"
   ]
  },
  {
   "cell_type": "code",
   "execution_count": 5,
   "metadata": {},
   "outputs": [
    {
     "data": {
      "image/png": "[encoded data removed]",
      "text/plain": [
       "<Figure size 640x480 with 1 Axes>"
      ]
     },
     "metadata": {},
     "output_type": "display_data"
    }
   ],
   "source": [
    "show_digit(train_df, 210)"
   ]
  }
 ],
 "metadata": {
  "kernelspec": {
   "display_name": "base",
   "language": "python",
   "name": "python3"
  },
  "language_info": {
   "codemirror_mode": {
    "name": "ipython",
    "version": 3
   },
   "file_extension": ".py",
   "mimetype": "text/x-python",
   "name": "python",
   "nbconvert_exporter": "python",
   "pygments_lexer": "ipython3",
   "version": "3.11.4"
  }
 },
 "nbformat": 4,
 "nbformat_minor": 2
}
